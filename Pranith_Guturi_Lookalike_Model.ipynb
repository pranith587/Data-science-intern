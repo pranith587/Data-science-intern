{
  "nbformat": 4,
  "nbformat_minor": 0,
  "metadata": {
    "colab": {
      "provenance": []
    },
    "kernelspec": {
      "name": "python3",
      "display_name": "Python 3"
    },
    "language_info": {
      "name": "python"
    }
  },
  "cells": [
    {
      "cell_type": "code",
      "execution_count": null,
      "metadata": {
        "colab": {
          "base_uri": "https://localhost:8080/"
        },
        "id": "_fffkqL_1sOO",
        "outputId": "d53d0230-6755-4524-f1fa-53de271fd814"
      },
      "outputs": [
        {
          "output_type": "stream",
          "name": "stdout",
          "text": [
            "  CustomerID        CustomerName         Region  SignupDate\n",
            "0      C0001    Lawrence Carroll  South America  2022-07-10\n",
            "1      C0002      Elizabeth Lutz           Asia  2022-02-13\n",
            "2      C0003      Michael Rivera  South America  2024-03-07\n",
            "3      C0004  Kathleen Rodriguez  South America  2022-10-09\n",
            "4      C0005         Laura Weber           Asia  2022-08-15\n",
            "  ProductID              ProductName     Category   Price\n",
            "0      P001     ActiveWear Biography        Books  169.30\n",
            "1      P002    ActiveWear Smartwatch  Electronics  346.30\n",
            "2      P003  ComfortLiving Biography        Books   44.12\n",
            "3      P004            BookWorld Rug   Home Decor   95.69\n",
            "4      P005          TechPro T-Shirt     Clothing  429.31\n",
            "  TransactionID CustomerID ProductID      TransactionDate  Quantity  \\\n",
            "0        T00001      C0199      P067  2024-08-25 12:38:23         1   \n",
            "1        T00112      C0146      P067  2024-05-27 22:23:54         1   \n",
            "2        T00166      C0127      P067  2024-04-25 07:38:55         1   \n",
            "3        T00272      C0087      P067  2024-03-26 22:55:37         2   \n",
            "4        T00363      C0070      P067  2024-03-21 15:10:10         3   \n",
            "\n",
            "   TotalValue   Price  \n",
            "0      300.68  300.68  \n",
            "1      300.68  300.68  \n",
            "2      300.68  300.68  \n",
            "3      601.36  300.68  \n",
            "4      902.04  300.68  \n"
          ]
        }
      ],
      "source": [
        "import pandas as pd\n",
        "\n",
        "# Load datasets\n",
        "customers = pd.read_csv(\"Customers.csv\")\n",
        "products = pd.read_csv(\"Products.csv\")\n",
        "transactions = pd.read_csv(\"Transactions.csv\")\n",
        "\n",
        "# Preview datasets\n",
        "print(customers.head())\n",
        "print(products.head())\n",
        "print(transactions.head())\n"
      ]
    },
    {
      "cell_type": "code",
      "source": [
        "# Merge datasets\n",
        "data = pd.merge(transactions, customers, on=\"CustomerID\")\n",
        "data = pd.merge(data, products, on=\"ProductID\")\n",
        "print(data.head())\n"
      ],
      "metadata": {
        "colab": {
          "base_uri": "https://localhost:8080/"
        },
        "id": "DiLcIoE24XiR",
        "outputId": "20861388-d823-4df4-afb9-e6bd8170e619"
      },
      "execution_count": null,
      "outputs": [
        {
          "output_type": "stream",
          "name": "stdout",
          "text": [
            "  TransactionID CustomerID ProductID      TransactionDate  Quantity  \\\n",
            "0        T00001      C0199      P067  2024-08-25 12:38:23         1   \n",
            "1        T00112      C0146      P067  2024-05-27 22:23:54         1   \n",
            "2        T00166      C0127      P067  2024-04-25 07:38:55         1   \n",
            "3        T00272      C0087      P067  2024-03-26 22:55:37         2   \n",
            "4        T00363      C0070      P067  2024-03-21 15:10:10         3   \n",
            "\n",
            "   TotalValue  Price_x     CustomerName         Region  SignupDate  \\\n",
            "0      300.68   300.68   Andrea Jenkins         Europe  2022-12-03   \n",
            "1      300.68   300.68  Brittany Harvey           Asia  2024-09-04   \n",
            "2      300.68   300.68  Kathryn Stevens         Europe  2024-04-04   \n",
            "3      601.36   300.68  Travis Campbell  South America  2024-04-11   \n",
            "4      902.04   300.68    Timothy Perez         Europe  2022-03-15   \n",
            "\n",
            "                       ProductName     Category  Price_y  \n",
            "0  ComfortLiving Bluetooth Speaker  Electronics   300.68  \n",
            "1  ComfortLiving Bluetooth Speaker  Electronics   300.68  \n",
            "2  ComfortLiving Bluetooth Speaker  Electronics   300.68  \n",
            "3  ComfortLiving Bluetooth Speaker  Electronics   300.68  \n",
            "4  ComfortLiving Bluetooth Speaker  Electronics   300.68  \n"
          ]
        }
      ]
    },
    {
      "cell_type": "code",
      "source": [
        "from sklearn.preprocessing import OneHotEncoder\n",
        "from sklearn.metrics.pairwise import cosine_similarity\n",
        "\n",
        "# One-hot encode categorical data\n",
        "data_encoded = pd.get_dummies(data[['Region', 'Category']], drop_first=True)\n",
        "\n",
        "# Aggregate data by CustomerID\n",
        "customer_data = data_encoded.groupby(data['CustomerID']).mean()\n"
      ],
      "metadata": {
        "id": "wJdr9ojq4bs5"
      },
      "execution_count": null,
      "outputs": []
    },
    {
      "cell_type": "code",
      "source": [
        "# Compute similarity matrix\n",
        "similarity_matrix = cosine_similarity(customer_data)\n",
        "\n",
        "# Get top 3 lookalikes for the first 20 customers\n",
        "import numpy as np\n",
        "lookalike_map = {}\n",
        "for i in range(20):\n",
        "    customer_id = customer_data.index[i]\n",
        "    similarity_scores = list(enumerate(similarity_matrix[i]))\n",
        "    top_3 = sorted(similarity_scores, key=lambda x: -x[1])[1:4]  # Exclude self-similarity\n",
        "    lookalike_map[customer_id] = [(customer_data.index[j], round(score, 2)) for j, score in top_3]\n",
        "\n",
        "print(lookalike_map)\n"
      ],
      "metadata": {
        "colab": {
          "base_uri": "https://localhost:8080/"
        },
        "id": "Fvp-sErG4hHq",
        "outputId": "d1eacb60-3229-4bdf-eaae-ba9d53afdf2c"
      },
      "execution_count": null,
      "outputs": [
        {
          "output_type": "stream",
          "name": "stdout",
          "text": [
            "{'C0001': [('C0091', 0.99), ('C0096', 0.99), ('C0112', 0.98)], 'C0002': [('C0043', 1.0), ('C0134', 0.98), ('C0159', 0.95)], 'C0003': [('C0031', 1.0), ('C0158', 1.0), ('C0195', 0.99)], 'C0004': [('C0085', 1.0), ('C0113', 0.99), ('C0148', 0.99)], 'C0005': [('C0007', 1.0), ('C0146', 1.0), ('C0045', 0.95)], 'C0006': [('C0147', 0.99), ('C0187', 0.99), ('C0108', 0.99)], 'C0007': [('C0007', 1.0), ('C0146', 1.0), ('C0045', 0.95)], 'C0008': [('C0154', 1.0), ('C0189', 1.0), ('C0122', 0.99)], 'C0009': [('C0198', 0.98), ('C0044', 0.97), ('C0074', 0.97)], 'C0010': [('C0061', 1.0), ('C0009', 0.96), ('C0062', 0.96)], 'C0011': [('C0126', 1.0), ('C0032', 0.99), ('C0082', 0.99)], 'C0012': [('C0152', 1.0), ('C0104', 0.99), ('C0163', 0.99)], 'C0013': [('C0107', 1.0), ('C0032', 0.99), ('C0192', 0.99)], 'C0014': [('C0060', 1.0), ('C0089', 1.0), ('C0037', 0.97)], 'C0015': [('C0038', 1.0), ('C0160', 1.0), ('C0065', 0.99)], 'C0016': [('C0183', 1.0), ('C0049', 1.0), ('C0156', 0.99)], 'C0017': [('C0075', 1.0), ('C0041', 0.99), ('C0057', 0.99)], 'C0018': [('C0035', 1.0), ('C0157', 0.99), ('C0055', 0.98)], 'C0019': [('C0070', 1.0), ('C0023', 0.99), ('C0057', 0.98)], 'C0020': [('C0050', 0.98), ('C0068', 0.97), ('C0125', 0.95)]}\n"
          ]
        }
      ]
    },
    {
      "cell_type": "code",
      "source": [
        "lookalike_df = pd.DataFrame({\n",
        "    \"CustomerID\": lookalike_map.keys(),\n",
        "    \"Lookalikes\": [str(v) for v in lookalike_map.values()]\n",
        "})\n",
        "lookalike_df.to_csv(\"Pranith_Lookalike.csv\", index=False)\n"
      ],
      "metadata": {
        "id": "qwA3HlWE4kPk"
      },
      "execution_count": null,
      "outputs": []
    }
  ]
}